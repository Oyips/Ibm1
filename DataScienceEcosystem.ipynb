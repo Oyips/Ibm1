{
 "cells": [
  {
   "cell_type": "markdown",
   "id": "385666cb-00fb-495f-a27a-816e91c492df",
   "metadata": {},
   "source": [
    "<H1>Data Science Tools and Ecosystem</H1>"
   ]
  },
  {
   "cell_type": "markdown",
   "id": "0a7827a5-ec94-439b-9d86-9698a8aebb3e",
   "metadata": {},
   "source": [
    "In this notebook, Data Science Tools and Ecosystem are summarized."
   ]
  },
  {
   "cell_type": "markdown",
   "id": "670d7d00-4df4-4b6b-8b58-9e07b346cbe6",
   "metadata": {},
   "source": [
    "<strong>Objectives</strong>\n",
    "<ul>Data Science programming languages</ul>\n",
    "<ul>Data Science Libraries</ul>\n",
    "<ul>Data Science Tools</ul>"
   ]
  },
  {
   "cell_type": "markdown",
   "id": "0ffbcba5-d617-4b70-9540-902fe617175b",
   "metadata": {},
   "source": [
    "Some of the popular languages that Data Scientists use are:\n",
    "<ol>\n",
    "    <li> Python </li>\n",
    "    <li> R language </li>\n",
    "    <li> Scala </li>\n",
    "</ol>"
   ]
  },
  {
   "cell_type": "markdown",
   "id": "feb8c0cd-7491-4c7b-9f95-ef348aa87b5f",
   "metadata": {},
   "source": [
    "Some of the commonly used libraries used by Data Scientists include:\n",
    "<ol>\n",
    "    <li>Pandas</li>\n",
    "    <li>ggplot</li>\n",
    "    <li>Matplotlib</li>\n",
    "</ol>"
   ]
  },
  {
   "cell_type": "markdown",
   "id": "1e7659e5-1cb8-4a2c-a5c3-92236b898687",
   "metadata": {},
   "source": [
    "<table border=\"1\">\n",
    "    <tr><th>Data Science Tools</th><tr>\n",
    "    <tr><td>Jupyter Notebook<td></tr>\n",
    "    <tr><td>R studio<td></tr>\n",
    "    <tr><td>Google Colab<td></tr>\n",
    "</table>"
   ]
  },
  {
   "cell_type": "markdown",
   "id": "ae644501-f862-47d1-a522-1cd16a943e84",
   "metadata": {
    "tags": []
   },
   "source": [
    "<h3>Below are a few examples of evaluating arithmetic expressions in Python</h3>"
   ]
  },
  {
   "cell_type": "code",
   "execution_count": 1,
   "id": "969e2e85-91c2-4ac6-94e5-13d93a0d4610",
   "metadata": {
    "tags": []
   },
   "outputs": [
    {
     "data": {
      "text/plain": [
       "7"
      ]
     },
     "execution_count": 1,
     "metadata": {},
     "output_type": "execute_result"
    }
   ],
   "source": [
    "2+5"
   ]
  },
  {
   "cell_type": "code",
   "execution_count": 2,
   "id": "c2e7eabd-30c2-452a-b96f-b7115bb60354",
   "metadata": {
    "tags": []
   },
   "outputs": [
    {
     "data": {
      "text/plain": [
       "54"
      ]
     },
     "execution_count": 2,
     "metadata": {},
     "output_type": "execute_result"
    }
   ],
   "source": [
    "9*6"
   ]
  },
  {
   "cell_type": "code",
   "execution_count": 3,
   "id": "9416c12b-c286-4650-8bec-abbddb0a2c15",
   "metadata": {
    "tags": []
   },
   "outputs": [
    {
     "data": {
      "text/plain": [
       "17"
      ]
     },
     "execution_count": 3,
     "metadata": {},
     "output_type": "execute_result"
    }
   ],
   "source": [
    "#This a simple arithmetic expression to mutiply then add integers.\n",
    "(3*4)+5"
   ]
  },
  {
   "cell_type": "code",
   "execution_count": 4,
   "id": "98adb725-3dd6-4b28-be84-a61ad534129d",
   "metadata": {
    "tags": []
   },
   "outputs": [
    {
     "data": {
      "text/plain": [
       "3.3333333333333335"
      ]
     },
     "execution_count": 4,
     "metadata": {},
     "output_type": "execute_result"
    }
   ],
   "source": [
    "#This will convert 200 minutes to hours by diving by 60\n",
    "to_min=200/60\n",
    "to_min"
   ]
  },
  {
   "cell_type": "markdown",
   "id": "1464f1f8-cf4c-4d36-92b2-3952deab94e2",
   "metadata": {},
   "source": [
    "<h2>Author</h2>\n",
    "Oyeyipo Iyanuoluwa"
   ]
  },
  {
   "cell_type": "code",
   "execution_count": null,
   "id": "d59d20bd-c4e6-4463-8b96-61a370f6de08",
   "metadata": {},
   "outputs": [],
   "source": []
  }
 ],
 "metadata": {
  "kernelspec": {
   "display_name": "Python",
   "language": "python",
   "name": "conda-env-python-py"
  },
  "language_info": {
   "codemirror_mode": {
    "name": "ipython",
    "version": 3
   },
   "file_extension": ".py",
   "mimetype": "text/x-python",
   "name": "python",
   "nbconvert_exporter": "python",
   "pygments_lexer": "ipython3",
   "version": "3.7.12"
  }
 },
 "nbformat": 4,
 "nbformat_minor": 5
}
